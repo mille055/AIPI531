{
  "nbformat": 4,
  "nbformat_minor": 0,
  "metadata": {
    "colab": {
      "provenance": [],
      "include_colab_link": true
    },
    "kernelspec": {
      "name": "python3",
      "display_name": "Python 3"
    },
    "language_info": {
      "name": "python"
    }
  },
  "cells": [
    {
      "cell_type": "markdown",
      "metadata": {
        "id": "view-in-github",
        "colab_type": "text"
      },
      "source": [
        "<a href=\"https://colab.research.google.com/github/mille055/AIPI531/blob/main/AIPI531_HW3.ipynb\" target=\"_parent\"><img src=\"https://colab.research.google.com/assets/colab-badge.svg\" alt=\"Open In Colab\"/></a>"
      ]
    },
    {
      "cell_type": "markdown",
      "source": [
        "# AIPI 531\n",
        "**Homework 3**\n",
        "\n",
        "Chad Miller\n"
      ],
      "metadata": {
        "id": "bBpmpMxAtLXE"
      }
    },
    {
      "cell_type": "markdown",
      "source": [
        "1. Build a pipeline for offline RL using d3rlpy:\n",
        "Hint: In this homework, you will implement a simple pipeline for offline RL using the APIs provided in d3rlpy repository.\n",
        "[Required] Train CQL:\n",
        "- Pick (any) one environment/dataset in d3rlpy\n",
        "(https://github.com/takuseno/d3rlpy).\n",
        "- Train your CQL agent with the data from the behavior policy.\n",
        "- Generate true Q vs training steps (may include different dataset sizes, task difficulties) plots.\n",
        "- Generate estimated Q vs training steps (may include different dataset sizes, task difficulties) plots.\n",
        "[Optional] Train OPE (FQE):\n",
        "- Train OPE (FQE) to evaluate the trained policy.\n",
        "- Generate estimated Q vs training steps (may include different trained policies) plots.\n",
        "  \n",
        " - Include the true Q in the same plots. [Requirements]:\n",
        "- Build a pipeline for offline RL (data processing, training, evaluation).\n",
        "- Compare the true Q value with estimated Q value for both offline RL training and offline evaluation (optional).\n",
        "[Software Setup for Development]:\n",
        "1. git clone the d3rlpy source code repo (development version) to your local machine (no need to install it on your local machine). https://d3rlpy.readthedocs.io/en/v1.0.0/installation.ht ml#install-from-source\n",
        "2. Download the Google Drive Desktop (to sync with your Google Drive). https://www.google.com/drive/download/\n",
        "3. Sync the cloned d3rlpy code repo (on your local machine) with the one in your Google Drive using Google Drive Desktop.\n",
        "4. Connect the cloned d3rlpy code repo stored in your Google Drive with your Google Colab notebook.\n",
        "5. Install the cloned d3rlpy code repo in your Google Drive using Google Colab (install it on Colab).\n",
        "   \n",
        "https://d3rlpy.readthedocs.io/en/v1.0.0/installation.ht\n",
        "ml#install-from-source\n",
        "6. Use any editor (e.g. Sublime, PyCharm, etc.) for the code implementation (modify the code in the cloned d3rlpy repo on your local machine).\n",
        "7. Test your implementation and running experiments using Colab.\n",
        "8. Push your code in the cloned d3rlpy repo on your local machine to your repo in your GitHub account.\n",
        "[Submission]:\n",
        "(We don’t need a link to your Google Drive. We only need the link to your GitHub using the Colab notebook)\n",
        "1. Create a new Colab notebook.\n",
        "2. !pip install git+”your github URL”\n",
        "3. Training/testing experiments using the Colab notebook."
      ],
      "metadata": {
        "id": "-t3bp6J2xPVV"
      }
    },
    {
      "cell_type": "markdown",
      "source": [
        "# Setup"
      ],
      "metadata": {
        "id": "d9QujP-_yWdF"
      }
    },
    {
      "cell_type": "code",
      "source": [
        "from google.colab import drive\n",
        "drive.mount('/content/gdrive')"
      ],
      "metadata": {
        "colab": {
          "base_uri": "https://localhost:8080/"
        },
        "id": "fRolOZBwtVLk",
        "outputId": "fdace582-4246-478a-cedf-db0bfc8efa92"
      },
      "execution_count": 1,
      "outputs": [
        {
          "output_type": "stream",
          "name": "stdout",
          "text": [
            "Mounted at /content/gdrive\n"
          ]
        }
      ]
    },
    {
      "cell_type": "code",
      "execution_count": 2,
      "metadata": {
        "colab": {
          "base_uri": "https://localhost:8080/"
        },
        "id": "ipVAc0u7tKrT",
        "outputId": "212f2f98-5060-4294-90a1-0afa8c2be282"
      },
      "outputs": [
        {
          "output_type": "stream",
          "name": "stdout",
          "text": [
            "Looking in indexes: https://pypi.org/simple, https://us-python.pkg.dev/colab-wheels/public/simple/\n",
            "Collecting git+https://github.com/mille055/AIPI531-d3rlpy.git\n",
            "  Cloning https://github.com/mille055/AIPI531-d3rlpy.git to /tmp/pip-req-build-orj8ws13\n",
            "  Running command git clone --filter=blob:none --quiet https://github.com/mille055/AIPI531-d3rlpy.git /tmp/pip-req-build-orj8ws13\n",
            "  Resolved https://github.com/mille055/AIPI531-d3rlpy.git to commit c8479a7d236e0322f2680183e1695a55fcb210f4\n",
            "  Preparing metadata (setup.py) ... \u001b[?25l\u001b[?25hdone\n",
            "Requirement already satisfied: torch in /usr/local/lib/python3.9/dist-packages (from d3rlpy==1.1.1) (1.13.1+cu116)\n",
            "Requirement already satisfied: scikit-learn in /usr/local/lib/python3.9/dist-packages (from d3rlpy==1.1.1) (1.2.2)\n",
            "Collecting tensorboardX\n",
            "  Downloading tensorboardX-2.6-py2.py3-none-any.whl (114 kB)\n",
            "\u001b[2K     \u001b[90m━━━━━━━━━━━━━━━━━━━━━━━━━━━━━━━━━━━━━━━\u001b[0m \u001b[32m114.5/114.5 KB\u001b[0m \u001b[31m3.6 MB/s\u001b[0m eta \u001b[36m0:00:00\u001b[0m\n",
            "\u001b[?25hRequirement already satisfied: tqdm in /usr/local/lib/python3.9/dist-packages (from d3rlpy==1.1.1) (4.65.0)\n",
            "Requirement already satisfied: h5py in /usr/local/lib/python3.9/dist-packages (from d3rlpy==1.1.1) (3.8.0)\n",
            "Requirement already satisfied: gym in /usr/local/lib/python3.9/dist-packages (from d3rlpy==1.1.1) (0.25.2)\n",
            "Requirement already satisfied: click in /usr/local/lib/python3.9/dist-packages (from d3rlpy==1.1.1) (8.1.3)\n",
            "Requirement already satisfied: typing-extensions in /usr/local/lib/python3.9/dist-packages (from d3rlpy==1.1.1) (4.5.0)\n",
            "Requirement already satisfied: scipy in /usr/local/lib/python3.9/dist-packages (from d3rlpy==1.1.1) (1.10.1)\n",
            "Collecting structlog\n",
            "  Downloading structlog-22.3.0-py3-none-any.whl (61 kB)\n",
            "\u001b[2K     \u001b[90m━━━━━━━━━━━━━━━━━━━━━━━━━━━━━━━━━━━━━━━━\u001b[0m \u001b[32m61.7/61.7 KB\u001b[0m \u001b[31m6.1 MB/s\u001b[0m eta \u001b[36m0:00:00\u001b[0m\n",
            "\u001b[?25hCollecting colorama\n",
            "  Downloading colorama-0.4.6-py2.py3-none-any.whl (25 kB)\n",
            "Requirement already satisfied: gym-notices>=0.0.4 in /usr/local/lib/python3.9/dist-packages (from gym->d3rlpy==1.1.1) (0.0.8)\n",
            "Requirement already satisfied: numpy>=1.18.0 in /usr/local/lib/python3.9/dist-packages (from gym->d3rlpy==1.1.1) (1.22.4)\n",
            "Requirement already satisfied: importlib-metadata>=4.8.0 in /usr/local/lib/python3.9/dist-packages (from gym->d3rlpy==1.1.1) (6.1.0)\n",
            "Requirement already satisfied: cloudpickle>=1.2.0 in /usr/local/lib/python3.9/dist-packages (from gym->d3rlpy==1.1.1) (2.2.1)\n",
            "Requirement already satisfied: joblib>=1.1.1 in /usr/local/lib/python3.9/dist-packages (from scikit-learn->d3rlpy==1.1.1) (1.1.1)\n",
            "Requirement already satisfied: threadpoolctl>=2.0.0 in /usr/local/lib/python3.9/dist-packages (from scikit-learn->d3rlpy==1.1.1) (3.1.0)\n",
            "Requirement already satisfied: packaging in /usr/local/lib/python3.9/dist-packages (from tensorboardX->d3rlpy==1.1.1) (23.0)\n",
            "Requirement already satisfied: protobuf<4,>=3.8.0 in /usr/local/lib/python3.9/dist-packages (from tensorboardX->d3rlpy==1.1.1) (3.19.6)\n",
            "Requirement already satisfied: zipp>=0.5 in /usr/local/lib/python3.9/dist-packages (from importlib-metadata>=4.8.0->gym->d3rlpy==1.1.1) (3.15.0)\n",
            "Building wheels for collected packages: d3rlpy\n",
            "  Building wheel for d3rlpy (setup.py) ... \u001b[?25l\u001b[?25hdone\n",
            "  Created wheel for d3rlpy: filename=d3rlpy-1.1.1-cp39-cp39-linux_x86_64.whl size=1258670 sha256=c35d2af88a01dde575dcfbe68c44221103eaeebc7427519876fecc815835400f\n",
            "  Stored in directory: /tmp/pip-ephem-wheel-cache-crn7v84z/wheels/c7/1d/0b/17e98dce5ba7216cdb795e775bd7691f7dee958f7153c023d2\n",
            "Successfully built d3rlpy\n",
            "Installing collected packages: tensorboardX, structlog, colorama, d3rlpy\n",
            "Successfully installed colorama-0.4.6 d3rlpy-1.1.1 structlog-22.3.0 tensorboardX-2.6\n"
          ]
        }
      ],
      "source": [
        "!pip install git+'https://github.com/mille055/AIPI531-d3rlpy.git'"
      ]
    },
    {
      "cell_type": "code",
      "source": [],
      "metadata": {
        "id": "tYV4JxU8zUG1"
      },
      "execution_count": 10,
      "outputs": []
    },
    {
      "cell_type": "code",
      "source": [
        "!pip install -e .[all]\n",
        "!pip install gym[all]\n",
        "!pip install -e .[docs,tests,extra] \n",
        "!pip install git+https://github.com/rail-berkeley/d4rl\n",
        "!pip install git+https://github.com/takuseno/d4rl-atari\n",
        "!pip install gym[atari]\n",
        "!pip install --upgrade gym==0.19.0"
      ],
      "metadata": {
        "colab": {
          "base_uri": "https://localhost:8080/"
        },
        "id": "flTN30Uht9qE",
        "outputId": "bc34f3e4-af0a-44f2-c883-a35a3593cded"
      },
      "execution_count": 11,
      "outputs": [
        {
          "output_type": "stream",
          "name": "stdout",
          "text": [
            "Looking in indexes: https://pypi.org/simple, https://us-python.pkg.dev/colab-wheels/public/simple/\n",
            "Obtaining file:///content\n",
            "\u001b[31mERROR: file:///content does not appear to be a Python project: neither 'setup.py' nor 'pyproject.toml' found.\u001b[0m\u001b[31m\n",
            "\u001b[0mLooking in indexes: https://pypi.org/simple, https://us-python.pkg.dev/colab-wheels/public/simple/\n",
            "Requirement already satisfied: gym[all] in /usr/local/lib/python3.9/dist-packages (0.23.1)\n",
            "Requirement already satisfied: numpy>=1.18.0 in /usr/local/lib/python3.9/dist-packages (from gym[all]) (1.22.4)\n",
            "Requirement already satisfied: cloudpickle>=1.2.0 in /usr/local/lib/python3.9/dist-packages (from gym[all]) (2.2.1)\n",
            "Requirement already satisfied: importlib-metadata>=4.10.0 in /usr/local/lib/python3.9/dist-packages (from gym[all]) (6.1.0)\n",
            "Requirement already satisfied: gym-notices>=0.0.4 in /usr/local/lib/python3.9/dist-packages (from gym[all]) (0.0.8)\n",
            "Requirement already satisfied: opencv-python>=3.0 in /usr/local/lib/python3.9/dist-packages (from gym[all]) (4.7.0.72)\n",
            "Requirement already satisfied: scipy>=1.4.1 in /usr/local/lib/python3.9/dist-packages (from gym[all]) (1.10.1)\n",
            "Requirement already satisfied: pygame==2.1.0 in /usr/local/lib/python3.9/dist-packages (from gym[all]) (2.1.0)\n",
            "Requirement already satisfied: lz4>=3.1.0 in /usr/local/lib/python3.9/dist-packages (from gym[all]) (4.3.2)\n",
            "Collecting mujoco-py<2.0,>=1.50\n",
            "  Downloading mujoco-py-1.50.1.68.tar.gz (120 kB)\n",
            "\u001b[2K     \u001b[90m━━━━━━━━━━━━━━━━━━━━━━━━━━━━━━━━━━━━━━━\u001b[0m \u001b[32m120.7/120.7 KB\u001b[0m \u001b[31m3.6 MB/s\u001b[0m eta \u001b[36m0:00:00\u001b[0m\n",
            "\u001b[?25h  Preparing metadata (setup.py) ... \u001b[?25l\u001b[?25hdone\n",
            "Requirement already satisfied: box2d-py==2.3.5 in /usr/local/lib/python3.9/dist-packages (from gym[all]) (2.3.5)\n",
            "Requirement already satisfied: ale-py~=0.7.4 in /usr/local/lib/python3.9/dist-packages (from gym[all]) (0.7.5)\n",
            "Requirement already satisfied: importlib-resources in /usr/local/lib/python3.9/dist-packages (from ale-py~=0.7.4->gym[all]) (5.12.0)\n",
            "Requirement already satisfied: zipp>=0.5 in /usr/local/lib/python3.9/dist-packages (from importlib-metadata>=4.10.0->gym[all]) (3.15.0)\n",
            "Requirement already satisfied: glfw>=1.4.0 in /usr/local/lib/python3.9/dist-packages (from mujoco-py<2.0,>=1.50->gym[all]) (2.5.7)\n",
            "Requirement already satisfied: Cython>=0.27.2 in /usr/local/lib/python3.9/dist-packages (from mujoco-py<2.0,>=1.50->gym[all]) (0.29.33)\n",
            "Requirement already satisfied: imageio>=2.1.2 in /usr/local/lib/python3.9/dist-packages (from mujoco-py<2.0,>=1.50->gym[all]) (2.25.1)\n",
            "Requirement already satisfied: cffi>=1.10 in /usr/local/lib/python3.9/dist-packages (from mujoco-py<2.0,>=1.50->gym[all]) (1.15.1)\n",
            "Collecting lockfile>=0.12.2\n",
            "  Downloading lockfile-0.12.2-py2.py3-none-any.whl (13 kB)\n",
            "Requirement already satisfied: pycparser in /usr/local/lib/python3.9/dist-packages (from cffi>=1.10->mujoco-py<2.0,>=1.50->gym[all]) (2.21)\n",
            "Requirement already satisfied: pillow>=8.3.2 in /usr/local/lib/python3.9/dist-packages (from imageio>=2.1.2->mujoco-py<2.0,>=1.50->gym[all]) (8.4.0)\n",
            "Building wheels for collected packages: mujoco-py\n",
            "  \u001b[1;31merror\u001b[0m: \u001b[1msubprocess-exited-with-error\u001b[0m\n",
            "  \n",
            "  \u001b[31m×\u001b[0m \u001b[32mpython setup.py bdist_wheel\u001b[0m did not run successfully.\n",
            "  \u001b[31m│\u001b[0m exit code: \u001b[1;36m1\u001b[0m\n",
            "  \u001b[31m╰─>\u001b[0m See above for output.\n",
            "  \n",
            "  \u001b[1;35mnote\u001b[0m: This error originates from a subprocess, and is likely not a problem with pip.\n",
            "  Building wheel for mujoco-py (setup.py) ... \u001b[?25lerror\n",
            "\u001b[31m  ERROR: Failed building wheel for mujoco-py\u001b[0m\u001b[31m\n",
            "\u001b[0m\u001b[?25h  Running setup.py clean for mujoco-py\n",
            "Failed to build mujoco-py\n",
            "Installing collected packages: lockfile, mujoco-py\n",
            "  Attempting uninstall: mujoco-py\n",
            "    Found existing installation: mujoco-py 2.1.2.14\n",
            "    Uninstalling mujoco-py-2.1.2.14:\n",
            "      Successfully uninstalled mujoco-py-2.1.2.14\n",
            "  \u001b[1;31merror\u001b[0m: \u001b[1msubprocess-exited-with-error\u001b[0m\n",
            "  \n",
            "  \u001b[31m×\u001b[0m \u001b[32mRunning setup.py install for mujoco-py\u001b[0m did not run successfully.\n",
            "  \u001b[31m│\u001b[0m exit code: \u001b[1;36m1\u001b[0m\n",
            "  \u001b[31m╰─>\u001b[0m See above for output.\n",
            "  \n",
            "  \u001b[1;35mnote\u001b[0m: This error originates from a subprocess, and is likely not a problem with pip.\n",
            "  Running setup.py install for mujoco-py ... \u001b[?25l\u001b[?25herror\n",
            "\u001b[33m  WARNING: No metadata found in /usr/local/lib/python3.9/dist-packages\u001b[0m\u001b[33m\n",
            "\u001b[0m  Rolling back uninstall of mujoco-py\n",
            "  Moving to /usr/local/lib/python3.9/dist-packages/mujoco_py-2.1.2.14.dist-info/\n",
            "   from /usr/local/lib/python3.9/dist-packages/~ujoco_py-2.1.2.14.dist-info\n",
            "  Moving to /usr/local/lib/python3.9/dist-packages/mujoco_py/\n",
            "   from /usr/local/lib/python3.9/dist-packages/~ujoco_py\n",
            "\u001b[1;31merror\u001b[0m: \u001b[1mlegacy-install-failure\u001b[0m\n",
            "\n",
            "\u001b[31m×\u001b[0m Encountered error while trying to install package.\n",
            "\u001b[31m╰─>\u001b[0m mujoco-py\n",
            "\n",
            "\u001b[1;35mnote\u001b[0m: This is an issue with the package mentioned above, not pip.\n",
            "\u001b[1;36mhint\u001b[0m: See above for output from the failure.\n",
            "Looking in indexes: https://pypi.org/simple, https://us-python.pkg.dev/colab-wheels/public/simple/\n",
            "Obtaining file:///content\n",
            "\u001b[31mERROR: file:///content does not appear to be a Python project: neither 'setup.py' nor 'pyproject.toml' found.\u001b[0m\u001b[31m\n",
            "\u001b[0mLooking in indexes: https://pypi.org/simple, https://us-python.pkg.dev/colab-wheels/public/simple/\n",
            "Collecting git+https://github.com/rail-berkeley/d4rl\n",
            "  Cloning https://github.com/rail-berkeley/d4rl to /tmp/pip-req-build-ax785vkk\n",
            "  Running command git clone --filter=blob:none --quiet https://github.com/rail-berkeley/d4rl /tmp/pip-req-build-ax785vkk\n",
            "  Resolved https://github.com/rail-berkeley/d4rl to commit 71a9549f2091accff93eeff68f1f3ab2c0e0a288\n",
            "  Preparing metadata (setup.py) ... \u001b[?25l\u001b[?25hdone\n",
            "Collecting mjrl@ git+https://github.com/aravindr93/mjrl@master#egg=mjrl\n",
            "  Cloning https://github.com/aravindr93/mjrl (to revision master) to /tmp/pip-install-d82l6cwh/mjrl_28a707a88a1d43d08d71f90dd673585a\n",
            "  Running command git clone --filter=blob:none --quiet https://github.com/aravindr93/mjrl /tmp/pip-install-d82l6cwh/mjrl_28a707a88a1d43d08d71f90dd673585a\n",
            "  Resolved https://github.com/aravindr93/mjrl to commit 3871d93763d3b49c4741e6daeaebbc605fe140dc\n",
            "  Preparing metadata (setup.py) ... \u001b[?25l\u001b[?25hdone\n",
            "Requirement already satisfied: gym<0.24.0 in /usr/local/lib/python3.9/dist-packages (from D4RL==1.1) (0.23.1)\n",
            "Requirement already satisfied: numpy in /usr/local/lib/python3.9/dist-packages (from D4RL==1.1) (1.22.4)\n",
            "Requirement already satisfied: mujoco_py in /usr/local/lib/python3.9/dist-packages (from D4RL==1.1) (2.1.2.14)\n",
            "Requirement already satisfied: pybullet in /usr/local/lib/python3.9/dist-packages (from D4RL==1.1) (3.2.5)\n",
            "Requirement already satisfied: h5py in /usr/local/lib/python3.9/dist-packages (from D4RL==1.1) (3.8.0)\n",
            "Requirement already satisfied: termcolor in /usr/local/lib/python3.9/dist-packages (from D4RL==1.1) (2.2.0)\n",
            "Requirement already satisfied: click in /usr/local/lib/python3.9/dist-packages (from D4RL==1.1) (8.1.3)\n",
            "Requirement already satisfied: dm_control>=1.0.3 in /usr/local/lib/python3.9/dist-packages (from D4RL==1.1) (1.0.11)\n",
            "Requirement already satisfied: protobuf>=3.19.4 in /usr/local/lib/python3.9/dist-packages (from dm_control>=1.0.3->D4RL==1.1) (3.19.6)\n",
            "Requirement already satisfied: labmaze in /usr/local/lib/python3.9/dist-packages (from dm_control>=1.0.3->D4RL==1.1) (1.0.6)\n",
            "Requirement already satisfied: scipy in /usr/local/lib/python3.9/dist-packages (from dm_control>=1.0.3->D4RL==1.1) (1.10.1)\n",
            "Requirement already satisfied: tqdm in /usr/local/lib/python3.9/dist-packages (from dm_control>=1.0.3->D4RL==1.1) (4.65.0)\n",
            "Requirement already satisfied: mujoco>=2.3.3 in /usr/local/lib/python3.9/dist-packages (from dm_control>=1.0.3->D4RL==1.1) (2.3.3)\n",
            "Requirement already satisfied: pyopengl>=3.1.4 in /usr/local/lib/python3.9/dist-packages (from dm_control>=1.0.3->D4RL==1.1) (3.1.6)\n",
            "Requirement already satisfied: requests in /usr/local/lib/python3.9/dist-packages (from dm_control>=1.0.3->D4RL==1.1) (2.27.1)\n",
            "Requirement already satisfied: lxml in /usr/local/lib/python3.9/dist-packages (from dm_control>=1.0.3->D4RL==1.1) (4.9.2)\n",
            "Requirement already satisfied: dm-env in /usr/local/lib/python3.9/dist-packages (from dm_control>=1.0.3->D4RL==1.1) (1.6)\n",
            "Requirement already satisfied: dm-tree!=0.1.2 in /usr/local/lib/python3.9/dist-packages (from dm_control>=1.0.3->D4RL==1.1) (0.1.8)\n",
            "Requirement already satisfied: pyparsing>=3.0.0 in /usr/local/lib/python3.9/dist-packages (from dm_control>=1.0.3->D4RL==1.1) (3.0.9)\n",
            "Requirement already satisfied: absl-py>=0.7.0 in /usr/local/lib/python3.9/dist-packages (from dm_control>=1.0.3->D4RL==1.1) (1.4.0)\n",
            "Requirement already satisfied: setuptools!=50.0.0 in /usr/local/lib/python3.9/dist-packages (from dm_control>=1.0.3->D4RL==1.1) (67.6.0)\n",
            "Requirement already satisfied: glfw in /usr/local/lib/python3.9/dist-packages (from dm_control>=1.0.3->D4RL==1.1) (2.5.7)\n",
            "Requirement already satisfied: importlib-metadata>=4.10.0 in /usr/local/lib/python3.9/dist-packages (from gym<0.24.0->D4RL==1.1) (6.1.0)\n",
            "Requirement already satisfied: cloudpickle>=1.2.0 in /usr/local/lib/python3.9/dist-packages (from gym<0.24.0->D4RL==1.1) (2.2.1)\n",
            "Requirement already satisfied: gym-notices>=0.0.4 in /usr/local/lib/python3.9/dist-packages (from gym<0.24.0->D4RL==1.1) (0.0.8)\n",
            "Requirement already satisfied: imageio>=2.1.2 in /usr/local/lib/python3.9/dist-packages (from mujoco_py->D4RL==1.1) (2.25.1)\n",
            "Requirement already satisfied: Cython>=0.27.2 in /usr/local/lib/python3.9/dist-packages (from mujoco_py->D4RL==1.1) (0.29.33)\n",
            "Requirement already satisfied: cffi>=1.10 in /usr/local/lib/python3.9/dist-packages (from mujoco_py->D4RL==1.1) (1.15.1)\n",
            "Requirement already satisfied: fasteners~=0.15 in /usr/local/lib/python3.9/dist-packages (from mujoco_py->D4RL==1.1) (0.18)\n",
            "Requirement already satisfied: pycparser in /usr/local/lib/python3.9/dist-packages (from cffi>=1.10->mujoco_py->D4RL==1.1) (2.21)\n",
            "Requirement already satisfied: pillow>=8.3.2 in /usr/local/lib/python3.9/dist-packages (from imageio>=2.1.2->mujoco_py->D4RL==1.1) (8.4.0)\n",
            "Requirement already satisfied: zipp>=0.5 in /usr/local/lib/python3.9/dist-packages (from importlib-metadata>=4.10.0->gym<0.24.0->D4RL==1.1) (3.15.0)\n",
            "Requirement already satisfied: charset-normalizer~=2.0.0 in /usr/local/lib/python3.9/dist-packages (from requests->dm_control>=1.0.3->D4RL==1.1) (2.0.12)\n",
            "Requirement already satisfied: urllib3<1.27,>=1.21.1 in /usr/local/lib/python3.9/dist-packages (from requests->dm_control>=1.0.3->D4RL==1.1) (1.26.15)\n",
            "Requirement already satisfied: idna<4,>=2.5 in /usr/local/lib/python3.9/dist-packages (from requests->dm_control>=1.0.3->D4RL==1.1) (3.4)\n",
            "Requirement already satisfied: certifi>=2017.4.17 in /usr/local/lib/python3.9/dist-packages (from requests->dm_control>=1.0.3->D4RL==1.1) (2022.12.7)\n",
            "Looking in indexes: https://pypi.org/simple, https://us-python.pkg.dev/colab-wheels/public/simple/\n",
            "Collecting git+https://github.com/takuseno/d4rl-atari\n",
            "  Cloning https://github.com/takuseno/d4rl-atari to /tmp/pip-req-build-rpc2vmjd\n",
            "  Running command git clone --filter=blob:none --quiet https://github.com/takuseno/d4rl-atari /tmp/pip-req-build-rpc2vmjd\n",
            "  Resolved https://github.com/takuseno/d4rl-atari to commit 799428bbc570a224c2df58a78c878f3410b0fa59\n",
            "  Preparing metadata (setup.py) ... \u001b[?25l\u001b[?25hdone\n",
            "Requirement already satisfied: atari-py in /usr/local/lib/python3.9/dist-packages (from d4rl-atari==0.1) (0.2.9)\n",
            "Requirement already satisfied: gym in /usr/local/lib/python3.9/dist-packages (from d4rl-atari==0.1) (0.23.1)\n",
            "Requirement already satisfied: gsutil in /usr/local/lib/python3.9/dist-packages (from d4rl-atari==0.1) (5.21)\n",
            "Requirement already satisfied: numpy in /usr/local/lib/python3.9/dist-packages (from d4rl-atari==0.1) (1.22.4)\n",
            "Requirement already satisfied: opencv-python in /usr/local/lib/python3.9/dist-packages (from d4rl-atari==0.1) (4.7.0.72)\n",
            "Requirement already satisfied: six in /usr/local/lib/python3.9/dist-packages (from atari-py->d4rl-atari==0.1) (1.16.0)\n",
            "Requirement already satisfied: google-auth[aiohttp]>=2.5.0 in /usr/local/lib/python3.9/dist-packages (from gsutil->d4rl-atari==0.1) (2.16.2)\n",
            "Requirement already satisfied: httplib2==0.20.4 in /usr/local/lib/python3.9/dist-packages (from gsutil->d4rl-atari==0.1) (0.20.4)\n",
            "Requirement already satisfied: gcs-oauth2-boto-plugin>=3.0 in /usr/local/lib/python3.9/dist-packages (from gsutil->d4rl-atari==0.1) (3.0)\n",
            "Requirement already satisfied: fasteners>=0.14.1 in /usr/local/lib/python3.9/dist-packages (from gsutil->d4rl-atari==0.1) (0.18)\n",
            "Requirement already satisfied: crcmod>=1.7 in /usr/local/lib/python3.9/dist-packages (from gsutil->d4rl-atari==0.1) (1.7)\n",
            "Requirement already satisfied: argcomplete>=1.9.4 in /usr/local/lib/python3.9/dist-packages (from gsutil->d4rl-atari==0.1) (3.0.4)\n",
            "Requirement already satisfied: google-reauth>=0.1.0 in /usr/local/lib/python3.9/dist-packages (from gsutil->d4rl-atari==0.1) (0.1.1)\n",
            "Requirement already satisfied: pyOpenSSL>=0.13 in /usr/local/lib/python3.9/dist-packages (from gsutil->d4rl-atari==0.1) (23.0.0)\n",
            "Requirement already satisfied: monotonic>=1.4 in /usr/local/lib/python3.9/dist-packages (from gsutil->d4rl-atari==0.1) (1.6)\n",
            "Requirement already satisfied: retry-decorator>=1.0.0 in /usr/local/lib/python3.9/dist-packages (from gsutil->d4rl-atari==0.1) (1.1.1)\n",
            "Requirement already satisfied: google-apitools>=0.5.32 in /usr/local/lib/python3.9/dist-packages (from gsutil->d4rl-atari==0.1) (0.5.32)\n",
            "Requirement already satisfied: pyparsing!=3.0.0,!=3.0.1,!=3.0.2,!=3.0.3,<4,>=2.4.2 in /usr/local/lib/python3.9/dist-packages (from httplib2==0.20.4->gsutil->d4rl-atari==0.1) (3.0.9)\n",
            "Requirement already satisfied: cloudpickle>=1.2.0 in /usr/local/lib/python3.9/dist-packages (from gym->d4rl-atari==0.1) (2.2.1)\n",
            "Requirement already satisfied: gym-notices>=0.0.4 in /usr/local/lib/python3.9/dist-packages (from gym->d4rl-atari==0.1) (0.0.8)\n",
            "Requirement already satisfied: importlib-metadata>=4.10.0 in /usr/local/lib/python3.9/dist-packages (from gym->d4rl-atari==0.1) (6.1.0)\n",
            "Requirement already satisfied: boto>=2.29.1 in /usr/local/lib/python3.9/dist-packages (from gcs-oauth2-boto-plugin>=3.0->gsutil->d4rl-atari==0.1) (2.49.0)\n",
            "Requirement already satisfied: rsa==4.7.2 in /usr/local/lib/python3.9/dist-packages (from gcs-oauth2-boto-plugin>=3.0->gsutil->d4rl-atari==0.1) (4.7.2)\n",
            "Requirement already satisfied: oauth2client>=2.2.0 in /usr/local/lib/python3.9/dist-packages (from gcs-oauth2-boto-plugin>=3.0->gsutil->d4rl-atari==0.1) (4.1.3)\n",
            "Requirement already satisfied: pyasn1>=0.1.3 in /usr/local/lib/python3.9/dist-packages (from rsa==4.7.2->gcs-oauth2-boto-plugin>=3.0->gsutil->d4rl-atari==0.1) (0.4.8)\n",
            "Requirement already satisfied: cachetools<6.0,>=2.0.0 in /usr/local/lib/python3.9/dist-packages (from google-auth[aiohttp]>=2.5.0->gsutil->d4rl-atari==0.1) (5.3.0)\n",
            "Requirement already satisfied: pyasn1-modules>=0.2.1 in /usr/local/lib/python3.9/dist-packages (from google-auth[aiohttp]>=2.5.0->gsutil->d4rl-atari==0.1) (0.2.8)\n",
            "Requirement already satisfied: aiohttp<4.0.0dev,>=3.6.2 in /usr/local/lib/python3.9/dist-packages (from google-auth[aiohttp]>=2.5.0->gsutil->d4rl-atari==0.1) (3.8.4)\n",
            "Requirement already satisfied: requests<3.0.0dev,>=2.20.0 in /usr/local/lib/python3.9/dist-packages (from google-auth[aiohttp]>=2.5.0->gsutil->d4rl-atari==0.1) (2.27.1)\n",
            "Requirement already satisfied: pyu2f in /usr/local/lib/python3.9/dist-packages (from google-reauth>=0.1.0->gsutil->d4rl-atari==0.1) (0.1.5)\n",
            "Requirement already satisfied: zipp>=0.5 in /usr/local/lib/python3.9/dist-packages (from importlib-metadata>=4.10.0->gym->d4rl-atari==0.1) (3.15.0)\n",
            "Requirement already satisfied: cryptography<40,>=38.0.0 in /usr/local/lib/python3.9/dist-packages (from pyOpenSSL>=0.13->gsutil->d4rl-atari==0.1) (39.0.2)\n",
            "Requirement already satisfied: frozenlist>=1.1.1 in /usr/local/lib/python3.9/dist-packages (from aiohttp<4.0.0dev,>=3.6.2->google-auth[aiohttp]>=2.5.0->gsutil->d4rl-atari==0.1) (1.3.3)\n",
            "Requirement already satisfied: multidict<7.0,>=4.5 in /usr/local/lib/python3.9/dist-packages (from aiohttp<4.0.0dev,>=3.6.2->google-auth[aiohttp]>=2.5.0->gsutil->d4rl-atari==0.1) (6.0.4)\n",
            "Requirement already satisfied: charset-normalizer<4.0,>=2.0 in /usr/local/lib/python3.9/dist-packages (from aiohttp<4.0.0dev,>=3.6.2->google-auth[aiohttp]>=2.5.0->gsutil->d4rl-atari==0.1) (2.0.12)\n",
            "Requirement already satisfied: aiosignal>=1.1.2 in /usr/local/lib/python3.9/dist-packages (from aiohttp<4.0.0dev,>=3.6.2->google-auth[aiohttp]>=2.5.0->gsutil->d4rl-atari==0.1) (1.3.1)\n",
            "Requirement already satisfied: attrs>=17.3.0 in /usr/local/lib/python3.9/dist-packages (from aiohttp<4.0.0dev,>=3.6.2->google-auth[aiohttp]>=2.5.0->gsutil->d4rl-atari==0.1) (22.2.0)\n",
            "Requirement already satisfied: async-timeout<5.0,>=4.0.0a3 in /usr/local/lib/python3.9/dist-packages (from aiohttp<4.0.0dev,>=3.6.2->google-auth[aiohttp]>=2.5.0->gsutil->d4rl-atari==0.1) (4.0.2)\n",
            "Requirement already satisfied: yarl<2.0,>=1.0 in /usr/local/lib/python3.9/dist-packages (from aiohttp<4.0.0dev,>=3.6.2->google-auth[aiohttp]>=2.5.0->gsutil->d4rl-atari==0.1) (1.8.2)\n",
            "Requirement already satisfied: cffi>=1.12 in /usr/local/lib/python3.9/dist-packages (from cryptography<40,>=38.0.0->pyOpenSSL>=0.13->gsutil->d4rl-atari==0.1) (1.15.1)\n",
            "Requirement already satisfied: idna<4,>=2.5 in /usr/local/lib/python3.9/dist-packages (from requests<3.0.0dev,>=2.20.0->google-auth[aiohttp]>=2.5.0->gsutil->d4rl-atari==0.1) (3.4)\n",
            "Requirement already satisfied: certifi>=2017.4.17 in /usr/local/lib/python3.9/dist-packages (from requests<3.0.0dev,>=2.20.0->google-auth[aiohttp]>=2.5.0->gsutil->d4rl-atari==0.1) (2022.12.7)\n",
            "Requirement already satisfied: urllib3<1.27,>=1.21.1 in /usr/local/lib/python3.9/dist-packages (from requests<3.0.0dev,>=2.20.0->google-auth[aiohttp]>=2.5.0->gsutil->d4rl-atari==0.1) (1.26.15)\n",
            "Requirement already satisfied: pycparser in /usr/local/lib/python3.9/dist-packages (from cffi>=1.12->cryptography<40,>=38.0.0->pyOpenSSL>=0.13->gsutil->d4rl-atari==0.1) (2.21)\n",
            "Looking in indexes: https://pypi.org/simple, https://us-python.pkg.dev/colab-wheels/public/simple/\n",
            "Requirement already satisfied: gym[atari] in /usr/local/lib/python3.9/dist-packages (0.23.1)\n",
            "Requirement already satisfied: importlib-metadata>=4.10.0 in /usr/local/lib/python3.9/dist-packages (from gym[atari]) (6.1.0)\n",
            "Requirement already satisfied: cloudpickle>=1.2.0 in /usr/local/lib/python3.9/dist-packages (from gym[atari]) (2.2.1)\n",
            "Requirement already satisfied: gym-notices>=0.0.4 in /usr/local/lib/python3.9/dist-packages (from gym[atari]) (0.0.8)\n",
            "Requirement already satisfied: numpy>=1.18.0 in /usr/local/lib/python3.9/dist-packages (from gym[atari]) (1.22.4)\n",
            "Requirement already satisfied: ale-py~=0.7.4 in /usr/local/lib/python3.9/dist-packages (from gym[atari]) (0.7.5)\n",
            "Requirement already satisfied: importlib-resources in /usr/local/lib/python3.9/dist-packages (from ale-py~=0.7.4->gym[atari]) (5.12.0)\n",
            "Requirement already satisfied: zipp>=0.5 in /usr/local/lib/python3.9/dist-packages (from importlib-metadata>=4.10.0->gym[atari]) (3.15.0)\n",
            "Looking in indexes: https://pypi.org/simple, https://us-python.pkg.dev/colab-wheels/public/simple/\n",
            "Collecting gym==0.19.0\n",
            "  Using cached gym-0.19.0.tar.gz (1.6 MB)\n",
            "  \u001b[1;31merror\u001b[0m: \u001b[1msubprocess-exited-with-error\u001b[0m\n",
            "  \n",
            "  \u001b[31m×\u001b[0m \u001b[32mpython setup.py egg_info\u001b[0m did not run successfully.\n",
            "  \u001b[31m│\u001b[0m exit code: \u001b[1;36m1\u001b[0m\n",
            "  \u001b[31m╰─>\u001b[0m See above for output.\n",
            "  \n",
            "  \u001b[1;35mnote\u001b[0m: This error originates from a subprocess, and is likely not a problem with pip.\n",
            "  Preparing metadata (setup.py) ... \u001b[?25l\u001b[?25herror\n",
            "\u001b[1;31merror\u001b[0m: \u001b[1mmetadata-generation-failed\u001b[0m\n",
            "\n",
            "\u001b[31m×\u001b[0m Encountered error while generating package metadata.\n",
            "\u001b[31m╰─>\u001b[0m See above for output.\n",
            "\n",
            "\u001b[1;35mnote\u001b[0m: This is an issue with the package mentioned above, not pip.\n",
            "\u001b[1;36mhint\u001b[0m: See above for details.\n"
          ]
        }
      ]
    },
    {
      "cell_type": "code",
      "source": [
        "import d3rlpy\n",
        "from d3rlpy.algos import CQL\n",
        "from d3rlpy.algos.cql import DiscreteCQL\n",
        "\n",
        "from d3rlpy.dataset import MDPDataset\n",
        "from d3rlpy.datasets import get_atari, get_cartpole\n",
        "\n",
        "from d3rlpy.metrics import initial_state_value_estimation_scorer\n",
        "from d3rlpy.metrics.scorer import average_value_estimation_scorer, true_q_scorer\n",
        "\n",
        "from sklearn.model_selection import train_test_split\n",
        "import numpy as np\n",
        "from matplotlib import pyplot as plt\n",
        "import pandas as pd\n",
        "import gym\n",
        "import d4rl_atari\n",
        "import shutil\n"
      ],
      "metadata": {
        "id": "he07Ait8zbS5",
        "outputId": "4a5386a8-3525-43de-885b-67d83c395a09",
        "colab": {
          "base_uri": "https://localhost:8080/",
          "height": 385
        }
      },
      "execution_count": 22,
      "outputs": [
        {
          "output_type": "error",
          "ename": "ImportError",
          "evalue": "ignored",
          "traceback": [
            "\u001b[0;31m---------------------------------------------------------------------------\u001b[0m",
            "\u001b[0;31mImportError\u001b[0m                               Traceback (most recent call last)",
            "\u001b[0;32m<ipython-input-22-734e7bbb1f4f>\u001b[0m in \u001b[0;36m<module>\u001b[0;34m\u001b[0m\n\u001b[1;32m      7\u001b[0m \u001b[0;34m\u001b[0m\u001b[0m\n\u001b[1;32m      8\u001b[0m \u001b[0;32mfrom\u001b[0m \u001b[0md3rlpy\u001b[0m\u001b[0;34m.\u001b[0m\u001b[0mmetrics\u001b[0m \u001b[0;32mimport\u001b[0m \u001b[0minitial_state_value_estimation_scorer\u001b[0m\u001b[0;34m\u001b[0m\u001b[0;34m\u001b[0m\u001b[0m\n\u001b[0;32m----> 9\u001b[0;31m \u001b[0;32mfrom\u001b[0m \u001b[0md3rlpy\u001b[0m\u001b[0;34m.\u001b[0m\u001b[0mmetrics\u001b[0m\u001b[0;34m.\u001b[0m\u001b[0mscorer\u001b[0m \u001b[0;32mimport\u001b[0m \u001b[0maverage_value_estimation_scorer\u001b[0m\u001b[0;34m,\u001b[0m \u001b[0mtrue_q_scorer\u001b[0m\u001b[0;34m\u001b[0m\u001b[0;34m\u001b[0m\u001b[0m\n\u001b[0m\u001b[1;32m     10\u001b[0m \u001b[0;34m\u001b[0m\u001b[0m\n\u001b[1;32m     11\u001b[0m \u001b[0;32mfrom\u001b[0m \u001b[0msklearn\u001b[0m\u001b[0;34m.\u001b[0m\u001b[0mmodel_selection\u001b[0m \u001b[0;32mimport\u001b[0m \u001b[0mtrain_test_split\u001b[0m\u001b[0;34m\u001b[0m\u001b[0;34m\u001b[0m\u001b[0m\n",
            "\u001b[0;31mImportError\u001b[0m: cannot import name 'true_q_scorer' from 'd3rlpy.metrics.scorer' (/usr/local/lib/python3.9/dist-packages/d3rlpy/metrics/scorer.py)",
            "",
            "\u001b[0;31m---------------------------------------------------------------------------\u001b[0;32m\nNOTE: If your import is failing due to a missing package, you can\nmanually install dependencies using either !pip or !apt.\n\nTo view examples of installing some common dependencies, click the\n\"Open Examples\" button below.\n\u001b[0;31m---------------------------------------------------------------------------\u001b[0m\n"
          ],
          "errorDetails": {
            "actions": [
              {
                "action": "open_url",
                "actionText": "Open Examples",
                "url": "/notebooks/snippets/importing_libraries.ipynb"
              }
            ]
          }
        }
      ]
    },
    {
      "cell_type": "code",
      "source": [
        "\n",
        "\n",
        "shutil.rmtree('/content/d3rlpy_log', ignore_errors=True)\n",
        "\n",
        "\n",
        "# prepare dataset\n",
        "dataset, env = get_cartpole()\n",
        "\n",
        "# split dataset\n",
        "train_episodes, test_episodes = train_test_split(dataset, test_size=0.2)\n",
        "\n",
        "# prepare algorithm\n",
        "cql = DiscreteCQL(use_gpu=True)\n",
        "\n",
        "# start training\n",
        "results = cql.fit(\n",
        "    train_episodes,\n",
        "    eval_episodes=test_episodes,\n",
        "    n_epochs=100,\n",
        "    scorers={\n",
        "        \"estimated_q\": initial_state_value_estimation_scorer,\n",
        "       'true_q': true_q_scorer\n",
        "    },\n",
        "    experiment_name = \"CQL-breakout\" \n",
        ")"
      ],
      "metadata": {
        "colab": {
          "base_uri": "https://localhost:8080/",
          "height": 232
        },
        "id": "pYPpJ8Vfy7GZ",
        "outputId": "0122234f-f265-4902-9a6d-c22697be5b07"
      },
      "execution_count": 20,
      "outputs": [
        {
          "output_type": "error",
          "ename": "NameError",
          "evalue": "ignored",
          "traceback": [
            "\u001b[0;31m---------------------------------------------------------------------------\u001b[0m",
            "\u001b[0;31mNameError\u001b[0m                                 Traceback (most recent call last)",
            "\u001b[0;32m<ipython-input-20-6b045decf6db>\u001b[0m in \u001b[0;36m<module>\u001b[0;34m\u001b[0m\n\u001b[1;32m     18\u001b[0m     scorers={\n\u001b[1;32m     19\u001b[0m         \u001b[0;34m\"estimated_q\"\u001b[0m\u001b[0;34m:\u001b[0m \u001b[0minitial_state_value_estimation_scorer\u001b[0m\u001b[0;34m,\u001b[0m\u001b[0;34m\u001b[0m\u001b[0;34m\u001b[0m\u001b[0m\n\u001b[0;32m---> 20\u001b[0;31m        \u001b[0;34m'true_q'\u001b[0m\u001b[0;34m:\u001b[0m \u001b[0mtrue_q_scorer\u001b[0m\u001b[0;34m\u001b[0m\u001b[0;34m\u001b[0m\u001b[0m\n\u001b[0m\u001b[1;32m     21\u001b[0m     },\n\u001b[1;32m     22\u001b[0m     \u001b[0mexperiment_name\u001b[0m \u001b[0;34m=\u001b[0m \u001b[0;34m\"CQL-breakout\"\u001b[0m\u001b[0;34m\u001b[0m\u001b[0;34m\u001b[0m\u001b[0m\n",
            "\u001b[0;31mNameError\u001b[0m: name 'true_q_scorer' is not defined"
          ]
        }
      ]
    },
    {
      "cell_type": "code",
      "source": [
        "true_q = pd.read_csv('/content/d3rlpy_log/CQL_cartpole/true_q.csv',header=None)\n",
        "estimated_q = pd.read_csv('/content/d3rlpy_log/CQL_cartpole/estimated_q.csv',header=None)\n",
        "\n",
        "true_q.columns = ['0', 'training steps', 'True Q']\n",
        "estimated_q.columns = ['0', 'training steps', 'Estimated Q']\n",
        "\n",
        "plt.plot(true_q['training steps'],true_q['True Q])\n",
        "plt.plot(estimated_q['training steps'],estimated_q['Estimated Q'])\n",
        "plt.legend(['True Q','Estimated Q'])"
      ],
      "metadata": {
        "id": "SOHuIPb0vT9E"
      },
      "execution_count": null,
      "outputs": []
    }
  ]
}